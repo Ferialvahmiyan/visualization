{
 "cells": [
  {
   "cell_type": "markdown",
   "metadata": {},
   "source": [
    "Ontario Guaranteed Annual Income System benefit rates\n",
    "\n",
    "(For Ages 65 to 74) Married Pensioner, Spouse 60-64\n",
    "\n",
    "Maximum payment and allowable private income amounts:\n",
    "\n",
    "The guaranteed income levels for July 1, 2024 to June 30, 2025 are:\n",
    "\n",
    "$87 monthly for single seniors (maximum monthly payment amount), your annual private income must be less than $4,176\n",
    "\n",
    "$174 monthly for senior couples (maximum monthly payment amount), your annual private income must be less than $8,352\n",
    "\n",
    "The data is organized by private income levels. GAINS payments are provided on top of the Old Age Security (OAS) pension and the Guaranteed Income Supplement (GIS) payments you may receive from the federal government."
   ]
  },
  {
   "cell_type": "markdown",
   "metadata": {},
   "source": [
    "Visualization 1: GAINS Benefit vs. Total Family Income (Python)\n",
    "\n",
    "Description and Justification\n",
    "\n",
    "Software Used: Python (Matplotlib/Seaborn)\n",
    "\n",
    "Python is ideal for creating detailed, reproducible plots. Its libraries allow for customization and automation, ensuring the results are easy to replicate.\n",
    "\n",
    "\n",
    "Intended Audience:\n",
    "\n",
    "Policymakers and financial analysts evaluating the GAINS program's impact on low-income families.\n",
    "\n",
    "\n",
    "Message to Convey:\n",
    "\n",
    "This visualization explores the relationship between GAINS benefits and total family income to identify how GAINS adjusts across income levels.\n",
    "\n",
    "\n",
    "Design Principles:\n",
    "\n",
    "- Substantive: Focused on accurately representing the GAINS distribution.\n",
    "- Perceptual: Used a scatter plot for simplicity, allowing trends to emerge clearly.\n",
    "- Aesthetic: Clean layout with high-contrast colors for accessibility.\n",
    "\n",
    "\n",
    "Reproducibility:\n",
    "\n",
    "The visualization is entirely script-based, ensuring reproducibility. Data cleaning and plotting steps are documented in Python code.\n",
    "\n",
    "\n",
    "Accessibility:\n",
    "\n",
    "Used a clear legend, labeled axes, and a color-blind-friendly palette to ensure inclusivity.\n",
    "\n",
    "\n",
    "Impact:\n",
    "\n",
    "Communities reliant on GAINS will benefit from better insights into how the program addresses income inequality.\n",
    "\n",
    "\n",
    "Feature Selection:\n",
    "\n",
    "Focused on GAINS benefits and family income, as these are most relevant to program evaluation.\n",
    "\n",
    "\n",
    "Underwater Labour:\n",
    "\n",
    "Cleaning the \"Total Family Income\" column (removing commas, converting to float) and preparing the data for plotting.\n",
    "\n",
    "\n",
    "\n",
    "_________________________________________________________________________________________________________________________\n",
    "\n",
    "Visualization 2: Family Income Heatmap by Income Brackets (Tableau Public)\n",
    "\n",
    "Description and Justification\n",
    "\n",
    "Software Used: Tableau Public\n",
    "\n",
    "Tableau's interactive heatmap features provide intuitive visual patterns, making it suitable for exploring income trends across brackets.\n",
    "\n",
    "\n",
    "Intended Audience:\n",
    "\n",
    "General public and researchers analyzing income disparities in Ontario.\n",
    "\n",
    "\n",
    "Message to Convey:\n",
    "\n",
    "The heatmap visualizes family income distribution, highlighting income inequality patterns and outliers.\n",
    "\n",
    "\n",
    "Design Principles:\n",
    "\n",
    "- Substantive: Focused on representing variations in family income.\n",
    "- Perceptual: Used a sequential gradient to emphasize differences.\n",
    "- Aesthetic: Applied a clean, minimal design with tooltips for interactivity.\n",
    "\n",
    "\n",
    "Reproducibility:\n",
    "\n",
    "Tableau Public does not fully support automation, but preparation steps will be documented, ensuring partial reproducibility.\n",
    "\n",
    "\n",
    "Accessibility:\n",
    "\n",
    "Used a high-contrast color palette and labeled axes to ensure readability. Shared the visualization publicly for accessibility.\n",
    "\n",
    "\n",
    "Impact:\n",
    "\n",
    "Policymakers and advocacy groups can use this to identify trends and address gaps in income support.\n",
    "\n",
    "\n",
    "Feature Selection:\n",
    "\n",
    "Included total family income and income brackets; excluded details like OAS and GIS for simplicity.\n",
    "\n",
    "\n",
    "Underwater Labour:\n",
    "\n",
    "Cleaning income data for Tableau import and configuring heatmap settings."
   ]
  },
  {
   "cell_type": "markdown",
   "metadata": {},
   "source": [
    "Step 1: Load and Prepare the Data"
   ]
  },
  {
   "cell_type": "code",
   "execution_count": 24,
   "metadata": {},
   "outputs": [
    {
     "name": "stdout",
     "output_type": "stream",
     "text": [
      "   _id  Private Income (min.)  Private Income (max.)  GAINS  Pensioner - OAS   \\\n",
      "0    1                    0.0                  47.99   83.0            713.34   \n",
      "1    2                   48.0                  95.99   83.0            713.34   \n",
      "2    3                   96.0                 143.99   83.0            713.34   \n",
      "3    4                  144.0                 191.99   83.0            713.34   \n",
      "4    5                  192.0                 239.99   83.0            713.34   \n",
      "\n",
      "   Pensioner - GIS  Pensioner - Total Spouse - Total  Total Family Income  \\\n",
      "0           641.35            1354.69       1,354.69              2792.38   \n",
      "1           641.35            1354.69       1,351.69              2793.38   \n",
      "2           641.35            1354.69       1,348.69              2794.38   \n",
      "3           641.35            1354.69       1,345.69              2795.38   \n",
      "4           641.35            1354.69       1,342.69              2796.38   \n",
      "\n",
      "  Income Bracket  \n",
      "0      2500-3000  \n",
      "1      2500-3000  \n",
      "2      2500-3000  \n",
      "3      2500-3000  \n",
      "4      2500-3000  \n"
     ]
    }
   ],
   "source": [
    "import pandas as pd\n",
    "import seaborn as sns\n",
    "import matplotlib.pyplot as plt\n",
    "\n",
    "# Load the dataset\n",
    "file_path = '02_activities/assignments/Ontario Guaranteed Annual Income System benefit rates.csv'\n",
    "data = pd.read_csv(file_path)\n",
    "\n",
    "# Data cleaning: Ensure columns are strings before removing commas\n",
    "for col in [\"Private Income (min.)\",\n",
    "            \"Private Income (max.)\",\n",
    "            \"Total Family Income\",\n",
    "            \"GAINS\",\n",
    "            \"Pensioner - Total\"]:\n",
    "    # Ensure the column exists in the dataset\n",
    "    if col in data.columns:\n",
    "        data[col] = data[col].astype(str).str.replace(\",\", \"\").astype(float)\n",
    "\n",
    "# Add a column for income brackets (categorical bins)\n",
    "income_bins = pd.cut(\n",
    "    data[\"Total Family Income\"],\n",
    "    bins=[0, 500, 1000, 1500, 2000, 2500, 3000],\n",
    "    labels=[\"0-500\", \"500-1000\", \"1000-1500\", \"1500-2000\", \"2000-2500\", \"2500-3000\"]\n",
    ")\n",
    "data[\"Income Bracket\"] = income_bins\n",
    "\n",
    "\n",
    "# Display the first few rows to ensure the data is loaded and processed correctly\n",
    "print(data.head())\n"
   ]
  },
  {
   "cell_type": "markdown",
   "metadata": {},
   "source": [
    "Step 2: Visualization 1 – Scatter Plot"
   ]
  },
  {
   "cell_type": "code",
   "execution_count": 25,
   "metadata": {},
   "outputs": [
    {
     "data": {
      "image/png": "[encoded data removed]",
      "text/plain": [
       "<Figure size 1200x600 with 1 Axes>"
      ]
     },
     "metadata": {},
     "output_type": "display_data"
    }
   ],
   "source": [
    "# Scatter plot: GAINS benefits vs. Total Family Income\n",
    "plt.figure(figsize=(12, 6))\n",
    "sns.scatterplot(\n",
    "    x=\"Total Family Income\",\n",
    "    y=\"Pensioner - Total\",\n",
    "    data=data,\n",
    "    alpha=0.6,\n",
    "    color=\"blue\"\n",
    ")\n",
    "plt.title(\"GAINS Benefits vs. Total Family Income\", fontsize=16, weight=\"bold\")\n",
    "plt.xlabel(\"Total Family Income ($)\", fontsize=12)\n",
    "plt.ylabel(\"GAINS Benefits ($)\", fontsize=12)\n",
    "plt.grid(True, linestyle=\"--\", alpha=0.7)\n",
    "plt.tight_layout()\n",
    "plt.show()\n"
   ]
  },
  {
   "cell_type": "markdown",
   "metadata": {},
   "source": [
    "Step 3: Visualization 2 – Grouped Bar Chart"
   ]
  },
  {
   "cell_type": "code",
   "execution_count": 28,
   "metadata": {},
   "outputs": [
    {
     "name": "stderr",
     "output_type": "stream",
     "text": [
      "C:\\Users\\khali\\AppData\\Local\\Temp\\ipykernel_13912\\2050920102.py:2: FutureWarning: The default of observed=False is deprecated and will be changed to True in a future version of pandas. Pass observed=False to retain current behavior or observed=True to adopt the future default and silence this warning.\n",
      "  aggregated_data = data.groupby(\"Income Bracket\")[[\"GAINS\",\n"
     ]
    },
    {
     "data": {
      "image/png": "[encoded data removed]",
      "text/plain": [
       "<Figure size 1200x600 with 1 Axes>"
      ]
     },
     "metadata": {},
     "output_type": "display_data"
    }
   ],
   "source": [
    "# Aggregating data for bar chart\n",
    "aggregated_data = data.groupby(\"Income Bracket\")[[\"GAINS\", \n",
    "                                                  \"Pensioner - GIS\",\n",
    "                                                  \"Pensioner - OAS \",\n",
    "                                                  \"Pensioner - Total\"]].mean().reset_index()\n",
    "\n",
    "# Melt data for grouped bar plot\n",
    "melted_data = pd.melt(\n",
    "    aggregated_data,\n",
    "    id_vars=\"Income Bracket\",\n",
    "    var_name=\"Benefit Type\",\n",
    "    value_name=\"Amount\"\n",
    ")\n",
    "\n",
    "# Plot: Grouped bar chart\n",
    "plt.figure(figsize=(12, 6))\n",
    "sns.barplot(\n",
    "    x=\"Income Bracket\",\n",
    "    y=\"Amount\",\n",
    "    hue=\"Benefit Type\",\n",
    "    data=melted_data,\n",
    "    palette=\"Set2\"\n",
    ")\n",
    "plt.title(\"Average Benefit Amounts by Income Bracket\", fontsize=16, weight=\"bold\")\n",
    "plt.xlabel(\"Income Bracket\", fontsize=12)\n",
    "plt.ylabel(\"Average Benefit Amount ($)\", fontsize=12)\n",
    "plt.legend(title=\"Benefit Type\", fontsize=10)\n",
    "plt.tight_layout()\n",
    "plt.show()\n"
   ]
  },
  {
   "cell_type": "markdown",
   "metadata": {},
   "source": [
    "Step 4: Visualization 3 – pairplot"
   ]
  },
  {
   "cell_type": "code",
   "execution_count": 32,
   "metadata": {},
   "outputs": [
    {
     "data": {
      "text/plain": [
       "<seaborn.axisgrid.PairGrid at 0x1fe5f38f9a0>"
      ]
     },
     "execution_count": 32,
     "metadata": {},
     "output_type": "execute_result"
    },
    {
     "data": {
      "image/png": "[encoded data removed]",
      "text/plain": [
       "<Figure size 1000x1000 with 20 Axes>"
      ]
     },
     "metadata": {},
     "output_type": "display_data"
    }
   ],
   "source": [
    "numeric_cols = [\"Private Income (min.)\", \n",
    "                \"Private Income (max.)\", \n",
    "                \"Total Family Income\", \n",
    "                \"GAINS\"]\n",
    "\n",
    "sns.pairplot(data[numeric_cols])"
   ]
  },
  {
   "cell_type": "markdown",
   "metadata": {},
   "source": [
    "Step 5: Visualization 4 – Dynamic plot"
   ]
  },
  {
   "cell_type": "code",
   "execution_count": 33,
   "metadata": {},
   "outputs": [
    {
     "data": {
      "application/vnd.plotly.v1+json": {
       "config": {
        "plotlyServerURL": "https://plot.ly"
       },
       "data": [
        {
         "customdata": [
          [
           "2500-3000",
           0
          ],
          [
           "2500-3000",
           48
          ],
          [
           "2500-3000",
           96
          ],
          [
           "2500-3000",
           144
          ],
          [
           "2500-3000",
           192
          ],
          [
           "2500-3000",
           240
          ],
          [
           "2500-3000",
           288
          ],
          [
           "2500-3000",
           336
          ],
          [
           "2500-3000",
           384
          ],
          [
           "2500-3000",
           432
          ],
          [
           "2500-3000",
           480
          ],
          [
           "2500-3000",
           528
          ],
          [
           "2500-3000",
           576
          ],
          [
           "2500-3000",
           624
          ],
          [
           "2500-3000",
           672
          ],
          [
           "2500-3000",
           720
          ],
          [
           "2500-3000",
           768
          ],
          [
           "2500-3000",
           816
          ],
          [
           "2500-3000",
           864
          ],
          [
           "2500-3000",
           912
          ],
          [
           "2500-3000",
           960
          ],
          [
           "2500-3000",
           1008
          ],
          [
           "2500-3000",
           1056
          ],
          [
           "2500-3000",
           1104
          ],
          [
           "2500-3000",
           1152
          ],
          [
           "2500-3000",
           1200
          ],
          [
           "2500-3000",
           1248
          ],
          [
           "2500-3000",
           1296
          ],
          [
           "2500-3000",
           1344
          ],
          [
           "2500-3000",
           1392
          ],
          [
           "2500-3000",
           1440
          ],
          [
           "2500-3000",
           1488
          ],
          [
           "2500-3000",
           1536
          ],
          [
           "2500-3000",
           1584
          ],
          [
           "2500-3000",
           1632
          ],
          [
           "2500-3000",
           1680
          ],
          [
           "2500-3000",
           1728
          ],
          [
           "2500-3000",
           1776
          ],
          [
           "2500-3000",
           1824
          ],
          [
           "2500-3000",
           1872
          ],
          [
           "2500-3000",
           1920
          ],
          [
           "2500-3000",
           1968
          ],
          [
           "2500-3000",
           2016
          ],
          [
           "2500-3000",
           2064
          ],
          [
           "2500-3000",
           2112
          ],
          [
           "2500-3000",
           2160
          ],
          [
           "2500-3000",
           2208
          ],
          [
           "2500-3000",
           2256
          ],
          [
           "2500-3000",
           2304
          ],
          [
           "2500-3000",
           2352
          ],
          [
           "2500-3000",
           2400
          ],
          [
           "2500-3000",
           2448
          ],
          [
           "2500-3000",
           2496
          ],
          [
           "2500-3000",
           2544
          ],
          [
           "2500-3000",
           2592
          ],
          [
           "2500-3000",
           2640
          ],
          [
           "2500-3000",
           2688
          ],
          [
           "2500-3000",
           2736
          ],
          [
           "2500-3000",
           2784
          ],
          [
           "2500-3000",
           2832
          ],
          [
           "2500-3000",
           2880
          ],
          [
           "2500-3000",
           2928
          ],
          [
           "2500-3000",
           2976
          ],
          [
           "2500-3000",
           3024
          ],
          [
           "2500-3000",
           3072
          ],
          [
           "2500-3000",
           3120
          ],
          [
           "2500-3000",
           3168
          ],
          [
           "2500-3000",
           3216
          ],
          [
           "2500-3000",
           3264
          ],
          [
           "2500-3000",
           3312
          ],
          [
           "2500-3000",
           3360
          ],
          [
           "2500-3000",
           3408
          ],
          [
           "2500-3000",
           3456
          ],
          [
           "2500-3000",
           3504
          ],
          [
           "2500-3000",
           3552
          ],
          [
           "2500-3000",
           3600
          ],
          [
           "2500-3000",
           3648
          ],
          [
           "2500-3000",
           3696
          ],
          [
           "2500-3000",
           3744
          ],
          [
           "2500-3000",
           3792
          ],
          [
           "2500-3000",
           3840
          ],
          [
           "2500-3000",
           3888
          ],
          [
           "2500-3000",
           3936
          ],
          [
           "2500-3000",
           3984
          ],
          [
           "2500-3000",
           4032
          ],
          [
           "2500-3000",
           4080
          ],
          [
           "2500-3000",
           4096
          ],
          [
           "2500-3000",
           4128
          ],
          [
           "2500-3000",
           4176
          ],
          [
           "2500-3000",
           4192
          ],
          [
           "2500-3000",
           4224
          ],
          [
           "2500-3000",
           4272
          ],
          [
           "2500-3000",
           4288
          ],
          [
           "2500-3000",
           4320
          ],
          [
           "2500-3000",
           4368
          ],
          [
           "2500-3000",
           4384
          ],
          [
           "2500-3000",
           4416
          ],
          [
           "2500-3000",
           4464
          ],
          [
           "2500-3000",
           4480
          ],
          [
           "2500-3000",
           4512
          ],
          [
           "2500-3000",
           4560
          ],
          [
           "2500-3000",
           4576
          ],
          [
           "2500-3000",
           4608
          ],
          [
           "2500-3000",
           4656
          ],
          [
           "2500-3000",
           4672
          ],
          [
           "2500-3000",
           4704
          ],
          [
           "2500-3000",
           4752
          ],
          [
           "2500-3000",
           4768
          ],
          [
           "2500-3000",
           4800
          ],
          [
           "2500-3000",
           4848
          ],
          [
           "2500-3000",
           4864
          ],
          [
           "2500-3000",
           4896
          ],
          [
           "2500-3000",
           4944
          ],
          [
           "2500-3000",
           4960
          ],
          [
           "2500-3000",
           4992
          ],
          [
           "2500-3000",
           5040
          ],
          [
           "2500-3000",
           5056
          ],
          [
           "2500-3000",
           5088
          ],
          [
           "2500-3000",
           5136
          ],
          [
           "2500-3000",
           5152
          ],
          [
           "2500-3000",
           5184
          ],
          [
           "2500-3000",
           5232
          ],
          [
           "2500-3000",
           5248
          ],
          [
           "2500-3000",
           5280
          ],
          [
           "2500-3000",
           5328
          ],
          [
           "2500-3000",
           5344
          ],
          [
           "2500-3000",
           5376
          ],
          [
           "2500-3000",
           5424
          ],
          [
           "2500-3000",
           5440
          ],
          [
           "2500-3000",
           5472
          ],
          [
           "2500-3000",
           5520
          ],
          [
           "2500-3000",
           5536
          ],
          [
           "2500-3000",
           5568
          ],
          [
           "2500-3000",
           5616
          ],
          [
           "2500-3000",
           5632
          ],
          [
           "2500-3000",
           5664
          ],
          [
           "2500-3000",
           5712
          ],
          [
           "2500-3000",
           5728
          ],
          [
           "2500-3000",
           5760
          ],
          [
           "2500-3000",
           5808
          ],
          [
           "2500-3000",
           5824
          ],
          [
           "2500-3000",
           5856
          ],
          [
           "2500-3000",
           5904
          ],
          [
           "2500-3000",
           5920
          ],
          [
           "2500-3000",
           5952
          ],
          [
           "2500-3000",
           6000
          ],
          [
           "2500-3000",
           6016
          ],
          [
           "2500-3000",
           6048
          ],
          [
           "2500-3000",
           6096
          ],
          [
           "2500-3000",
           6112
          ],
          [
           "2500-3000",
           6144
          ],
          [
           "2500-3000",
           6192
          ],
          [
           "2500-3000",
           6208
          ],
          [
           "2500-3000",
           6240
          ],
          [
           "2500-3000",
           6288
          ],
          [
           "2500-3000",
           6304
          ],
          [
           "2500-3000",
           6336
          ],
          [
           "2500-3000",
           6384
          ],
          [
           "2500-3000",
           6400
          ],
          [
           "2500-3000",
           6432
          ],
          [
           "2500-3000",
           6480
          ],
          [
           "2500-3000",
           6496
          ],
          [
           "2500-3000",
           6528
          ],
          [
           "2500-3000",
           6576
          ],
          [
           "2500-3000",
           6592
          ],
          [
           "2500-3000",
           6624
          ],
          [
           "2500-3000",
           6672
          ],
          [
           "2500-3000",
           6688
          ],
          [
           "2500-3000",
           6720
          ],
          [
           "2500-3000",
           6768
          ],
          [
           "2500-3000",
           6784
          ],
          [
           "2500-3000",
           6816
          ],
          [
           "2500-3000",
           6864
          ],
          [
           "2500-3000",
           6880
          ],
          [
           "2500-3000",
           6912
          ],
          [
           "2500-3000",
           6960
          ],
          [
           "2500-3000",
           6976
          ],
          [
           "2500-3000",
           7008
          ],
          [
           "2500-3000",
           7056
          ],
          [
           "2500-3000",
           7072
          ],
          [
           "2500-3000",
           7104
          ],
          [
           "2500-3000",
           7152
          ],
          [
           "2500-3000",
           7168
          ],
          [
           "2500-3000",
           7200
          ],
          [
           "2500-3000",
           7248
          ],
          [
           "2500-3000",
           7264
          ],
          [
           "2500-3000",
           7296
          ],
          [
           "2500-3000",
           7344
          ],
          [
           "2500-3000",
           7360
          ],
          [
           "2500-3000",
           7392
          ],
          [
           "2500-3000",
           7440
          ],
          [
           "2500-3000",
           7456
          ],
          [
           "2500-3000",
           7488
          ],
          [
           "2500-3000",
           7536
          ],
          [
           "2500-3000",
           7552
          ],
          [
           "2500-3000",
           7584
          ],
          [
           "2500-3000",
           7632
          ],
          [
           "2500-3000",
           7648
          ],
          [
           "2500-3000",
           7680
          ],
          [
           "2500-3000",
           7728
          ],
          [
           "2500-3000",
           7744
          ],
          [
           "2500-3000",
           7776
          ],
          [
           "2500-3000",
           7824
          ],
          [
           "2500-3000",
           7840
          ],
          [
           "2500-3000",
           7872
          ],
          [
           "2500-3000",
           7920
          ],
          [
           "2500-3000",
           7936
          ],
          [
           "2500-3000",
           7968
          ],
          [
           "2500-3000",
           8016
          ],
          [
           "2500-3000",
           8032
          ],
          [
           "2500-3000",
           8064
          ],
          [
           "2500-3000",
           8112
          ],
          [
           "2500-3000",
           8128
          ],
          [
           "2500-3000",
           8160
          ],
          [
           "2500-3000",
           8208
          ],
          [
           "2500-3000",
           8224
          ],
          [
           "2500-3000",
           8256
          ],
          [
           "2500-3000",
           8304
          ],
          [
           "2500-3000",
           8320
          ],
          [
           "2500-3000",
           8352
          ],
          [
           "2500-3000",
           8400
          ],
          [
           "2500-3000",
           8416
          ],
          [
           "2500-3000",
           8448
          ],
          [
           "2500-3000",
           8496
          ],
          [
           "2500-3000",
           8512
          ],
          [
           "2500-3000",
           8544
          ],
          [
           "2500-3000",
           8592
          ],
          [
           "2500-3000",
           8640
          ],
          [
           "2500-3000",
           8688
          ],
          [
           "2500-3000",
           8736
          ],
          [
           "2500-3000",
           8784
          ],
          [
           "2500-3000",
           8832
          ],
          [
           "2500-3000",
           8880
          ],
          [
           "2500-3000",
           8928
          ],
          [
           "2500-3000",
           8976
          ],
          [
           "2500-3000",
           9024
          ],
          [
           "2500-3000",
           9072
          ],
          [
           "2500-3000",
           9120
          ],
          [
           "2500-3000",
           9168
          ],
          [
           "2500-3000",
           9216
          ],
          [
           "2500-3000",
           9264
          ],
          [
           "2500-3000",
           9312
          ],
          [
           "2500-3000",
           9360
          ],
          [
           "2500-3000",
           9408
          ],
          [
           "2500-3000",
           9456
          ],
          [
           "2500-3000",
           9504
          ],
          [
           "2500-3000",
           9552
          ],
          [
           "2500-3000",
           9600
          ],
          [
           "2500-3000",
           9648
          ],
          [
           "2500-3000",
           9696
          ],
          [
           "2500-3000",
           9744
          ],
          [
           "2500-3000",
           9792
          ],
          [
           "2500-3000",
           9840
          ],
          [
           "2500-3000",
           9888
          ],
          [
           "2500-3000",
           9936
          ],
          [
           "2500-3000",
           9984
          ],
          [
           "2500-3000",
           10032
          ],
          [
           "2500-3000",
           10080
          ],
          [
           "2500-3000",
           10128
          ],
          [
           "2500-3000",
           10176
          ],
          [
           "2500-3000",
           10224
          ],
          [
           "2500-3000",
           10272
          ],
          [
           "2500-3000",
           10320
          ],
          [
           "2500-3000",
           10368
          ],
          [
           "2500-3000",
           10416
          ],
          [
           "2500-3000",
           10464
          ],
          [
           "2500-3000",
           10512
          ],
          [
           "2500-3000",
           10560
          ],
          [
           "2500-3000",
           10608
          ],
          [
           "2500-3000",
           10656
          ],
          [
           "2500-3000",
           10704
          ],
          [
           "2500-3000",
           10752
          ],
          [
           "2500-3000",
           10800
          ],
          [
           "2500-3000",
           10848
          ],
          [
           "2500-3000",
           10896
          ],
          [
           "2500-3000",
           10944
          ],
          [
           "2500-3000",
           10992
          ],
          [
           "2500-3000",
           11040
          ],
          [
           "2500-3000",
           11088
          ],
          [
           "2500-3000",
           11136
          ],
          [
           "2500-3000",
           11184
          ],
          [
           "2500-3000",
           11232
          ],
          [
           "2500-3000",
           11280
          ],
          [
           "2500-3000",
           11328
          ],
          [
           "2500-3000",
           11376
          ],
          [
           "2500-3000",
           11424
          ],
          [
           "2500-3000",
           11472
          ],
          [
           "2500-3000",
           11520
          ],
          [
           "2500-3000",
           11568
          ],
          [
           "2500-3000",
           11616
          ],
          [
           "2500-3000",
           11664
          ],
          [
           "2500-3000",
           11712
          ],
          [
           "2500-3000",
           11760
          ],
          [
           "2500-3000",
           11808
          ],
          [
           "2500-3000",
           11856
          ],
          [
           "2500-3000",
           11904
          ],
          [
           "2500-3000",
           11952
          ],
          [
           "2500-3000",
           12000
          ],
          [
           "2500-3000",
           12048
          ],
          [
           "2500-3000",
           12096
          ],
          [
           "2500-3000",
           12144
          ],
          [
           "2500-3000",
           12192
          ],
          [
           "2500-3000",
           12240
          ],
          [
           "2500-3000",
           12288
          ],
          [
           "2500-3000",
           12336
          ],
          [
           "2500-3000",
           12384
          ],
          [
           "2500-3000",
           12432
          ],
          [
           "2500-3000",
           12480
          ],
          [
           "2500-3000",
           12528
          ],
          [
           "2500-3000",
           12576
          ],
          [
           "2500-3000",
           12624
          ],
          [
           "2500-3000",
           12672
          ],
          [
           "2500-3000",
           12720
          ],
          [
           "2500-3000",
           12768
          ],
          [
           "2500-3000",
           12816
          ],
          [
           "2500-3000",
           12864
          ],
          [
           "2500-3000",
           12912
          ],
          [
           "2500-3000",
           12960
          ],
          [
           "2500-3000",
           13008
          ],
          [
           "2500-3000",
           13056
          ],
          [
           "2500-3000",
           13104
          ],
          [
           "2500-3000",
           13152
          ],
          [
           "2500-3000",
           13200
          ],
          [
           "2500-3000",
           13248
          ],
          [
           "2500-3000",
           13296
          ],
          [
           "2500-3000",
           13344
          ],
          [
           "2500-3000",
           13392
          ],
          [
           "2500-3000",
           13440
          ],
          [
           "2500-3000",
           13488
          ],
          [
           "2500-3000",
           13536
          ],
          [
           "2500-3000",
           13584
          ],
          [
           "2500-3000",
           13632
          ],
          [
           "2500-3000",
           13680
          ],
          [
           "2500-3000",
           13728
          ],
          [
           "2500-3000",
           13776
          ],
          [
           "2500-3000",
           13824
          ],
          [
           "2500-3000",
           13872
          ],
          [
           "2500-3000",
           13920
          ],
          [
           "2500-3000",
           13968
          ],
          [
           "2500-3000",
           14016
          ],
          [
           "2500-3000",
           14064
          ],
          [
           "2500-3000",
           14112
          ],
          [
           "2500-3000",
           14160
          ],
          [
           "2500-3000",
           14208
          ],
          [
           "2500-3000",
           14256
          ],
          [
           "2500-3000",
           14304
          ],
          [
           "2500-3000",
           14352
          ],
          [
           "2500-3000",
           14400
          ],
          [
           "2500-3000",
           14448
          ],
          [
           "2500-3000",
           14496
          ],
          [
           "2500-3000",
           14544
          ],
          [
           "2500-3000",
           14592
          ],
          [
           "2500-3000",
           14640
          ],
          [
           "2500-3000",
           14688
          ],
          [
           "2500-3000",
           14736
          ],
          [
           "2500-3000",
           14784
          ],
          [
           "2500-3000",
           14832
          ],
          [
           "2500-3000",
           14880
          ]
         ],
         "hovertemplate": "Income Bracket=%{customdata[0]}<br>Total Family Income ($)=%{x}<br>GAINS Benefits ($)=%{y}<br>Private Income (min.)=%{customdata[1]}<extra></extra>",
         "legendgroup": "2500-3000",
         "marker": {
          "color": "#636efa",
          "symbol": "circle"
         },
         "mode": "markers",
         "name": "2500-3000",
         "orientation": "v",
         "showlegend": true,
         "type": "scatter",
         "x": [
          2792.38,
          2793.38,
          2794.38,
          2795.38,
          2796.38,
          2797.38,
          2798.38,
          2799.38,
          2800.38,
          2801.38,
          2802.38,
          2803.38,
          2804.38,
          2805.38,
          2806.38,
          2807.38,
          2808.38,
          2809.38,
          2810.38,
          2811.38,
          2812.38,
          2813.38,
          2814.38,
          2815.38,
          2816.38,
          2817.38,
          2818.38,
          2819.38,
          2820.38,
          2821.38,
          2822.38,
          2823.38,
          2824.38,
          2825.38,
          2826.38,
          2827.38,
          2828.38,
          2829.38,
          2830.38,
          2831.38,
          2832.38,
          2833.38,
          2834.38,
          2835.38,
          2836.38,
          2837.38,
          2838.38,
          2839.38,
          2840.38,
          2841.38,
          2842.38,
          2843.38,
          2844.38,
          2845.38,
          2846.38,
          2847.38,
          2848.38,
          2849.38,
          2850.38,
          2851.38,
          2852.38,
          2853.38,
          2854.38,
          2855.38,
          2856.38,
          2857.38,
          2858.38,
          2859.38,
          2860.38,
          2861.38,
          2862.38,
          2863.38,
          2864.38,
          2865.38,
          2866.38,
          2867.38,
          2868.38,
          2869.38,
          2870.38,
          2871.38,
          2872.38,
          2873.38,
          2874.38,
          2875.38,
          2876.38,
          2877.38,
          2876.71,
          2876.38,
          2877.38,
          2876.71,
          2876.38,
          2877.38,
          2876.71,
          2876.38,
          2877.38,
          2876.71,
          2876.38,
          2877.38,
          2876.71,
          2876.38,
          2877.38,
          2876.71,
          2876.38,
          2877.38,
          2876.71,
          2876.38,
          2877.38,
          2876.71,
          2876.38,
          2877.38,
          2876.71,
          2876.38,
          2877.38,
          2876.71,
          2876.38,
          2877.38,
          2876.71,
          2876.38,
          2877.38,
          2876.71,
          2876.38,
          2877.38,
          2876.71,
          2876.38,
          2877.38,
          2876.71,
          2876.38,
          2877.38,
          2876.71,
          2876.38,
          2877.38,
          2876.71,
          2876.38,
          2877.38,
          2876.71,
          2876.38,
          2877.38,
          2876.71,
          2876.38,
          2877.38,
          2876.71,
          2876.38,
          2877.38,
          2876.71,
          2876.38,
          2877.38,
          2876.71,
          2876.38,
          2877.38,
          2876.71,
          2876.38,
          2877.38,
          2876.71,
          2876.38,
          2877.38,
          2876.71,
          2876.38,
          2877.38,
          2876.71,
          2876.38,
          2877.38,
          2876.71,
          2876.38,
          2877.38,
          2876.71,
          2876.38,
          2877.38,
          2876.71,
          2876.38,
          2877.38,
          2876.71,
          2876.38,
          2877.38,
          2876.71,
          2876.38,
          2877.38,
          2876.71,
          2876.38,
          2877.38,
          2876.71,
          2876.38,
          2877.38,
          2876.71,
          2876.38,
          2877.38,
          2876.71,
          2876.38,
          2877.38,
          2876.71,
          2876.38,
          2877.38,
          2876.71,
          2876.38,
          2877.38,
          2876.71,
          2876.38,
          2877.38,
          2876.71,
          2876.38,
          2877.38,
          2876.71,
          2876.38,
          2877.38,
          2876.71,
          2876.38,
          2877.38,
          2876.71,
          2876.38,
          2877.38,
          2876.71,
          2876.38,
          2877.38,
          2876.71,
          2876.38,
          2877.38,
          2876.71,
          2876.38,
          2877.38,
          2876.71,
          2876.38,
          2877.38,
          2876.71,
          2876.38,
          2877.38,
          2877.19,
          2876.86,
          2877.86,
          2877.86,
          2877.86,
          2877.86,
          2877.86,
          2877.86,
          2877.86,
          2877.86,
          2877.86,
          2877.86,
          2877.86,
          2877.86,
          2877.86,
          2877.86,
          2877.86,
          2877.86,
          2877.86,
          2877.86,
          2877.86,
          2877.86,
          2877.86,
          2877.86,
          2877.86,
          2877.86,
          2877.86,
          2877.86,
          2877.86,
          2877.86,
          2877.86,
          2877.86,
          2877.86,
          2877.86,
          2877.86,
          2877.86,
          2877.86,
          2877.86,
          2877.86,
          2877.86,
          2877.86,
          2877.86,
          2877.86,
          2877.86,
          2877.86,
          2877.86,
          2877.86,
          2877.86,
          2877.86,
          2877.86,
          2877.86,
          2877.86,
          2877.86,
          2877.86,
          2877.86,
          2877.86,
          2877.86,
          2877.86,
          2877.86,
          2877.86,
          2877.86,
          2878.52,
          2879.52,
          2880.52,
          2881.52,
          2882.52,
          2883.52,
          2884.52,
          2885.52,
          2886.52,
          2887.52,
          2888.52,
          2889.52,
          2890.52,
          2891.52,
          2892.52,
          2893.52,
          2894.52,
          2895.52,
          2896.52,
          2897.52,
          2898.52,
          2899.52,
          2900.52,
          2901.52,
          2902.52,
          2904.52,
          2906.52,
          2908.52,
          2910.52,
          2912.52,
          2914.52,
          2916.52,
          2918.52,
          2920.52,
          2922.52,
          2924.52,
          2926.52,
          2928.52,
          2930.52,
          2932.52,
          2934.52,
          2936.52,
          2938.52,
          2940.52,
          2942.52,
          2944.52,
          2946.52,
          2948.52,
          2950.52,
          2952.52,
          2954.52,
          2956.52,
          2958.52,
          2960.52,
          2962.52,
          2964.52,
          2966.52,
          2968.52,
          2970.52,
          2972.52,
          2974.52,
          2976.52,
          2978.52,
          2980.52,
          2982.52,
          2984.52,
          2986.52,
          2988.52,
          2990.52,
          2992.52,
          2994.52,
          2996.52,
          2998.52
         ],
         "xaxis": "x",
         "y": [
          83,
          83,
          83,
          83,
          83,
          83,
          83,
          83,
          83,
          83,
          83,
          83,
          83,
          83,
          83,
          83,
          83,
          83,
          83,
          83,
          83,
          83,
          83,
          83,
          83,
          83,
          83,
          83,
          83,
          83,
          83,
          83,
          83,
          83,
          83,
          83,
          83,
          83,
          83,
          83,
          83,
          83,
          83,
          83,
          83,
          83,
          83,
          83,
          83,
          83,
          83,
          83,
          83,
          83,
          83,
          83,
          83,
          83,
          83,
          83,
          83,
          83,
          83,
          83,
          83,
          83,
          83,
          83,
          83,
          83,
          83,
          83,
          83,
          83,
          83,
          83,
          83,
          83,
          83,
          83,
          83,
          83,
          83,
          83,
          83,
          83,
          83,
          83,
          83,
          83,
          83,
          83,
          83,
          83,
          83,
          83,
          83,
          83,
          83,
          83,
          83,
          83,
          83,
          83,
          83,
          83,
          83,
          83,
          83,
          83,
          83,
          83,
          83,
          83,
          83,
          83,
          83,
          83,
          83,
          83,
          83,
          83,
          83,
          83,
          83,
          83,
          83,
          83,
          83,
          83,
          83,
          83,
          83,
          83,
          83,
          83,
          83,
          83,
          83,
          83,
          83,
          83,
          83,
          83,
          83,
          83,
          83,
          83,
          83,
          83,
          83,
          83,
          83,
          83,
          83,
          83,
          83,
          83,
          83,
          83,
          83,
          83,
          83,
          83,
          83,
          83,
          83,
          83,
          83,
          83,
          83,
          83,
          83,
          83,
          83,
          83,
          83,
          83,
          83,
          83,
          83,
          83,
          83,
          83,
          83,
          83,
          83,
          83,
          83,
          83,
          83,
          83,
          83,
          83,
          83,
          83,
          83,
          83,
          83,
          83,
          83,
          83,
          83,
          83,
          83,
          83,
          83,
          83,
          83,
          83,
          83,
          83,
          83,
          83,
          83,
          83,
          83,
          83,
          83,
          83,
          83,
          83,
          83,
          83,
          83,
          83,
          83,
          82,
          81,
          80,
          79,
          78,
          77,
          76,
          75,
          74,
          73,
          72,
          71,
          70,
          69,
          68,
          67,
          66,
          65,
          64,
          63,
          62,
          61,
          60,
          59,
          58,
          57,
          56,
          55,
          54,
          53,
          52,
          51,
          50,
          49,
          48,
          47,
          46,
          45,
          44,
          43,
          42,
          41,
          40,
          39,
          38,
          37,
          36,
          35,
          34,
          33,
          32,
          31,
          30,
          29,
          28,
          27,
          26,
          25,
          24,
          23,
          22,
          21,
          20,
          19,
          18,
          17,
          16,
          15,
          14,
          13,
          12,
          11,
          10,
          9,
          8,
          7,
          6,
          5,
          4,
          3,
          2,
          1,
          0,
          0,
          0,
          0,
          0,
          0,
          0,
          0,
          0,
          0,
          0,
          0,
          0,
          0,
          0,
          0,
          0,
          0,
          0,
          0,
          0,
          0,
          0,
          0,
          0,
          0,
          0,
          0,
          0,
          0,
          0,
          0,
          0,
          0,
          0,
          0,
          0,
          0,
          0,
          0,
          0,
          0,
          0,
          0,
          0,
          0,
          0,
          0,
          0
         ],
         "yaxis": "y"
        }
       ],
       "layout": {
        "legend": {
         "title": {
          "text": "Income Bracket"
         },
         "tracegroupgap": 0
        },
        "template": {
         "data": {
          "bar": [
           {
            "error_x": {
             "color": "#2a3f5f"
            },
            "error_y": {
             "color": "#2a3f5f"
            },
            "marker": {
             "line": {
              "color": "#E5ECF6",
              "width": 0.5
             },
             "pattern": {
              "fillmode": "overlay",
              "size": 10,
              "solidity": 0.2
             }
            },
            "type": "bar"
           }
          ],
          "barpolar": [
           {
            "marker": {
             "line": {
              "color": "#E5ECF6",
              "width": 0.5
             },
             "pattern": {
              "fillmode": "overlay",
              "size": 10,
              "solidity": 0.2
             }
            },
            "type": "barpolar"
           }
          ],
          "carpet": [
           {
            "aaxis": {
             "endlinecolor": "#2a3f5f",
             "gridcolor": "white",
             "linecolor": "white",
             "minorgridcolor": "white",
             "startlinecolor": "#2a3f5f"
            },
            "baxis": {
             "endlinecolor": "#2a3f5f",
             "gridcolor": "white",
             "linecolor": "white",
             "minorgridcolor": "white",
             "startlinecolor": "#2a3f5f"
            },
            "type": "carpet"
           }
          ],
          "choropleth": [
           {
            "colorbar": {
             "outlinewidth": 0,
             "ticks": ""
            },
            "type": "choropleth"
           }
          ],
          "contour": [
           {
            "colorbar": {
             "outlinewidth": 0,
             "ticks": ""
            },
            "colorscale": [
             [
              0,
              "#0d0887"
             ],
             [
              0.1111111111111111,
              "#46039f"
             ],
             [
              0.2222222222222222,
              "#7201a8"
             ],
             [
              0.3333333333333333,
              "#9c179e"
             ],
             [
              0.4444444444444444,
              "#bd3786"
             ],
             [
              0.5555555555555556,
              "#d8576b"
             ],
             [
              0.6666666666666666,
              "#ed7953"
             ],
             [
              0.7777777777777778,
              "#fb9f3a"
             ],
             [
              0.8888888888888888,
              "#fdca26"
             ],
             [
              1,
              "#f0f921"
             ]
            ],
            "type": "contour"
           }
          ],
          "contourcarpet": [
           {
            "colorbar": {
             "outlinewidth": 0,
             "ticks": ""
            },
            "type": "contourcarpet"
           }
          ],
          "heatmap": [
           {
            "colorbar": {
             "outlinewidth": 0,
             "ticks": ""
            },
            "colorscale": [
             [
              0,
              "#0d0887"
             ],
             [
              0.1111111111111111,
              "#46039f"
             ],
             [
              0.2222222222222222,
              "#7201a8"
             ],
             [
              0.3333333333333333,
              "#9c179e"
             ],
             [
              0.4444444444444444,
              "#bd3786"
             ],
             [
              0.5555555555555556,
              "#d8576b"
             ],
             [
              0.6666666666666666,
              "#ed7953"
             ],
             [
              0.7777777777777778,
              "#fb9f3a"
             ],
             [
              0.8888888888888888,
              "#fdca26"
             ],
             [
              1,
              "#f0f921"
             ]
            ],
            "type": "heatmap"
           }
          ],
          "heatmapgl": [
           {
            "colorbar": {
             "outlinewidth": 0,
             "ticks": ""
            },
            "colorscale": [
             [
              0,
              "#0d0887"
             ],
             [
              0.1111111111111111,
              "#46039f"
             ],
             [
              0.2222222222222222,
              "#7201a8"
             ],
             [
              0.3333333333333333,
              "#9c179e"
             ],
             [
              0.4444444444444444,
              "#bd3786"
             ],
             [
              0.5555555555555556,
              "#d8576b"
             ],
             [
              0.6666666666666666,
              "#ed7953"
             ],
             [
              0.7777777777777778,
              "#fb9f3a"
             ],
             [
              0.8888888888888888,
              "#fdca26"
             ],
             [
              1,
              "#f0f921"
             ]
            ],
            "type": "heatmapgl"
           }
          ],
          "histogram": [
           {
            "marker": {
             "pattern": {
              "fillmode": "overlay",
              "size": 10,
              "solidity": 0.2
             }
            },
            "type": "histogram"
           }
          ],
          "histogram2d": [
           {
            "colorbar": {
             "outlinewidth": 0,
             "ticks": ""
            },
            "colorscale": [
             [
              0,
              "#0d0887"
             ],
             [
              0.1111111111111111,
              "#46039f"
             ],
             [
              0.2222222222222222,
              "#7201a8"
             ],
             [
              0.3333333333333333,
              "#9c179e"
             ],
             [
              0.4444444444444444,
              "#bd3786"
             ],
             [
              0.5555555555555556,
              "#d8576b"
             ],
             [
              0.6666666666666666,
              "#ed7953"
             ],
             [
              0.7777777777777778,
              "#fb9f3a"
             ],
             [
              0.8888888888888888,
              "#fdca26"
             ],
             [
              1,
              "#f0f921"
             ]
            ],
            "type": "histogram2d"
           }
          ],
          "histogram2dcontour": [
           {
            "colorbar": {
             "outlinewidth": 0,
             "ticks": ""
            },
            "colorscale": [
             [
              0,
              "#0d0887"
             ],
             [
              0.1111111111111111,
              "#46039f"
             ],
             [
              0.2222222222222222,
              "#7201a8"
             ],
             [
              0.3333333333333333,
              "#9c179e"
             ],
             [
              0.4444444444444444,
              "#bd3786"
             ],
             [
              0.5555555555555556,
              "#d8576b"
             ],
             [
              0.6666666666666666,
              "#ed7953"
             ],
             [
              0.7777777777777778,
              "#fb9f3a"
             ],
             [
              0.8888888888888888,
              "#fdca26"
             ],
             [
              1,
              "#f0f921"
             ]
            ],
            "type": "histogram2dcontour"
           }
          ],
          "mesh3d": [
           {
            "colorbar": {
             "outlinewidth": 0,
             "ticks": ""
            },
            "type": "mesh3d"
           }
          ],
          "parcoords": [
           {
            "line": {
             "colorbar": {
              "outlinewidth": 0,
              "ticks": ""
             }
            },
            "type": "parcoords"
           }
          ],
          "pie": [
           {
            "automargin": true,
            "type": "pie"
           }
          ],
          "scatter": [
           {
            "fillpattern": {
             "fillmode": "overlay",
             "size": 10,
             "solidity": 0.2
            },
            "type": "scatter"
           }
          ],
          "scatter3d": [
           {
            "line": {
             "colorbar": {
              "outlinewidth": 0,
              "ticks": ""
             }
            },
            "marker": {
             "colorbar": {
              "outlinewidth": 0,
              "ticks": ""
             }
            },
            "type": "scatter3d"
           }
          ],
          "scattercarpet": [
           {
            "marker": {
             "colorbar": {
              "outlinewidth": 0,
              "ticks": ""
             }
            },
            "type": "scattercarpet"
           }
          ],
          "scattergeo": [
           {
            "marker": {
             "colorbar": {
              "outlinewidth": 0,
              "ticks": ""
             }
            },
            "type": "scattergeo"
           }
          ],
          "scattergl": [
           {
            "marker": {
             "colorbar": {
              "outlinewidth": 0,
              "ticks": ""
             }
            },
            "type": "scattergl"
           }
          ],
          "scattermapbox": [
           {
            "marker": {
             "colorbar": {
              "outlinewidth": 0,
              "ticks": ""
             }
            },
            "type": "scattermapbox"
           }
          ],
          "scatterpolar": [
           {
            "marker": {
             "colorbar": {
              "outlinewidth": 0,
              "ticks": ""
             }
            },
            "type": "scatterpolar"
           }
          ],
          "scatterpolargl": [
           {
            "marker": {
             "colorbar": {
              "outlinewidth": 0,
              "ticks": ""
             }
            },
            "type": "scatterpolargl"
           }
          ],
          "scatterternary": [
           {
            "marker": {
             "colorbar": {
              "outlinewidth": 0,
              "ticks": ""
             }
            },
            "type": "scatterternary"
           }
          ],
          "surface": [
           {
            "colorbar": {
             "outlinewidth": 0,
             "ticks": ""
            },
            "colorscale": [
             [
              0,
              "#0d0887"
             ],
             [
              0.1111111111111111,
              "#46039f"
             ],
             [
              0.2222222222222222,
              "#7201a8"
             ],
             [
              0.3333333333333333,
              "#9c179e"
             ],
             [
              0.4444444444444444,
              "#bd3786"
             ],
             [
              0.5555555555555556,
              "#d8576b"
             ],
             [
              0.6666666666666666,
              "#ed7953"
             ],
             [
              0.7777777777777778,
              "#fb9f3a"
             ],
             [
              0.8888888888888888,
              "#fdca26"
             ],
             [
              1,
              "#f0f921"
             ]
            ],
            "type": "surface"
           }
          ],
          "table": [
           {
            "cells": {
             "fill": {
              "color": "#EBF0F8"
             },
             "line": {
              "color": "white"
             }
            },
            "header": {
             "fill": {
              "color": "#C8D4E3"
             },
             "line": {
              "color": "white"
             }
            },
            "type": "table"
           }
          ]
         },
         "layout": {
          "annotationdefaults": {
           "arrowcolor": "#2a3f5f",
           "arrowhead": 0,
           "arrowwidth": 1
          },
          "autotypenumbers": "strict",
          "coloraxis": {
           "colorbar": {
            "outlinewidth": 0,
            "ticks": ""
           }
          },
          "colorscale": {
           "diverging": [
            [
             0,
             "#8e0152"
            ],
            [
             0.1,
             "#c51b7d"
            ],
            [
             0.2,
             "#de77ae"
            ],
            [
             0.3,
             "#f1b6da"
            ],
            [
             0.4,
             "#fde0ef"
            ],
            [
             0.5,
             "#f7f7f7"
            ],
            [
             0.6,
             "#e6f5d0"
            ],
            [
             0.7,
             "#b8e186"
            ],
            [
             0.8,
             "#7fbc41"
            ],
            [
             0.9,
             "#4d9221"
            ],
            [
             1,
             "#276419"
            ]
           ],
           "sequential": [
            [
             0,
             "#0d0887"
            ],
            [
             0.1111111111111111,
             "#46039f"
            ],
            [
             0.2222222222222222,
             "#7201a8"
            ],
            [
             0.3333333333333333,
             "#9c179e"
            ],
            [
             0.4444444444444444,
             "#bd3786"
            ],
            [
             0.5555555555555556,
             "#d8576b"
            ],
            [
             0.6666666666666666,
             "#ed7953"
            ],
            [
             0.7777777777777778,
             "#fb9f3a"
            ],
            [
             0.8888888888888888,
             "#fdca26"
            ],
            [
             1,
             "#f0f921"
            ]
           ],
           "sequentialminus": [
            [
             0,
             "#0d0887"
            ],
            [
             0.1111111111111111,
             "#46039f"
            ],
            [
             0.2222222222222222,
             "#7201a8"
            ],
            [
             0.3333333333333333,
             "#9c179e"
            ],
            [
             0.4444444444444444,
             "#bd3786"
            ],
            [
             0.5555555555555556,
             "#d8576b"
            ],
            [
             0.6666666666666666,
             "#ed7953"
            ],
            [
             0.7777777777777778,
             "#fb9f3a"
            ],
            [
             0.8888888888888888,
             "#fdca26"
            ],
            [
             1,
             "#f0f921"
            ]
           ]
          },
          "colorway": [
           "#636efa",
           "#EF553B",
           "#00cc96",
           "#ab63fa",
           "#FFA15A",
           "#19d3f3",
           "#FF6692",
           "#B6E880",
           "#FF97FF",
           "#FECB52"
          ],
          "font": {
           "color": "#2a3f5f"
          },
          "geo": {
           "bgcolor": "white",
           "lakecolor": "white",
           "landcolor": "#E5ECF6",
           "showlakes": true,
           "showland": true,
           "subunitcolor": "white"
          },
          "hoverlabel": {
           "align": "left"
          },
          "hovermode": "closest",
          "mapbox": {
           "style": "light"
          },
          "paper_bgcolor": "white",
          "plot_bgcolor": "#E5ECF6",
          "polar": {
           "angularaxis": {
            "gridcolor": "white",
            "linecolor": "white",
            "ticks": ""
           },
           "bgcolor": "#E5ECF6",
           "radialaxis": {
            "gridcolor": "white",
            "linecolor": "white",
            "ticks": ""
           }
          },
          "scene": {
           "xaxis": {
            "backgroundcolor": "#E5ECF6",
            "gridcolor": "white",
            "gridwidth": 2,
            "linecolor": "white",
            "showbackground": true,
            "ticks": "",
            "zerolinecolor": "white"
           },
           "yaxis": {
            "backgroundcolor": "#E5ECF6",
            "gridcolor": "white",
            "gridwidth": 2,
            "linecolor": "white",
            "showbackground": true,
            "ticks": "",
            "zerolinecolor": "white"
           },
           "zaxis": {
            "backgroundcolor": "#E5ECF6",
            "gridcolor": "white",
            "gridwidth": 2,
            "linecolor": "white",
            "showbackground": true,
            "ticks": "",
            "zerolinecolor": "white"
           }
          },
          "shapedefaults": {
           "line": {
            "color": "#2a3f5f"
           }
          },
          "ternary": {
           "aaxis": {
            "gridcolor": "white",
            "linecolor": "white",
            "ticks": ""
           },
           "baxis": {
            "gridcolor": "white",
            "linecolor": "white",
            "ticks": ""
           },
           "bgcolor": "#E5ECF6",
           "caxis": {
            "gridcolor": "white",
            "linecolor": "white",
            "ticks": ""
           }
          },
          "title": {
           "x": 0.05
          },
          "xaxis": {
           "automargin": true,
           "gridcolor": "white",
           "linecolor": "white",
           "ticks": "",
           "title": {
            "standoff": 15
           },
           "zerolinecolor": "white",
           "zerolinewidth": 2
          },
          "yaxis": {
           "automargin": true,
           "gridcolor": "white",
           "linecolor": "white",
           "ticks": "",
           "title": {
            "standoff": 15
           },
           "zerolinecolor": "white",
           "zerolinewidth": 2
          }
         }
        },
        "title": {
         "text": "Total Family Income vs GAINS Benefits"
        },
        "xaxis": {
         "anchor": "y",
         "domain": [
          0,
          1
         ],
         "title": {
          "text": "Total Family Income ($)"
         }
        },
        "yaxis": {
         "anchor": "x",
         "domain": [
          0,
          1
         ],
         "title": {
          "text": "GAINS Benefits ($)"
         }
        }
       }
      }
     },
     "metadata": {},
     "output_type": "display_data"
    }
   ],
   "source": [
    "import plotly.express as px\n",
    "\n",
    "# Assuming 'Total Family Income' and 'GAINS' are the columns to plot dynamically\n",
    "fig = px.scatter(\n",
    "    data, \n",
    "    x='Total Family Income', \n",
    "    y='GAINS',\n",
    "    color='Income Bracket',  # Optional: color by income bracket or another column\n",
    "    title='Total Family Income vs GAINS Benefits',\n",
    "    labels={'Total Family Income': 'Total Family Income ($)', 'GAINS': 'GAINS Benefits ($)'},\n",
    "    hover_data=['Income Bracket', 'Private Income (min.)']  # Add more columns to show when hovering\n",
    ")\n",
    "\n",
    "# Show the plot\n",
    "fig.show()"
   ]
  }
 ],
 "metadata": {
  "kernelspec": {
   "display_name": "dsi_participant",
   "language": "python",
   "name": "python3"
  },
  "language_info": {
   "codemirror_mode": {
    "name": "ipython",
    "version": 3
   },
   "file_extension": ".py",
   "mimetype": "text/x-python",
   "name": "python",
   "nbconvert_exporter": "python",
   "pygments_lexer": "ipython3",
   "version": "3.9.15"
  }
 },
 "nbformat": 4,
 "nbformat_minor": 2
}
